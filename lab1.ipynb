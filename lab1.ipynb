{
 "cells": [
  {
   "cell_type": "markdown",
   "metadata": {},
   "source": [
    "Set Cover problem"
   ]
  },
  {
   "cell_type": "code",
   "execution_count": 1,
   "metadata": {},
   "outputs": [],
   "source": [
    "from random import random, seed\n",
    "from itertools import product\n",
    "import numpy as np\n",
    "from matplotlib import pyplot as plt\n",
    "from icecream import ic\n",
    "from tqdm import tqdm"
   ]
  },
  {
   "cell_type": "code",
   "execution_count": 2,
   "metadata": {},
   "outputs": [],
   "source": [
    "#Helper Functions\n",
    "def valid(solution):\n",
    "    \"\"\"Checks wether solution is valid (ie. covers all universe)\"\"\"\n",
    "    \n",
    "    return np.all(np.logical_or.reduce(SETS[solution]))\n",
    "def fitness(solution: np.array) -> tuple:\n",
    "    \"\"\"Returns a tuple (validity, negative cost) to maximize validity and minimize cost.\"\"\"\n",
    "    return (valid(solution), -cost(solution))\n",
    "\n",
    "def cost(solution):\n",
    "    \"\"\"Returns the cost of a solution (to be minimized)\"\"\"\n",
    "    return COSTS[solution].sum()\n"
   ]
  },
  {
   "cell_type": "code",
   "execution_count": 3,
   "metadata": {},
   "outputs": [],
   "source": [
    "universes = [100, 1000, 10_000, 100_000, 100_000, 100_000]\n",
    "num_sets =[10, 100, 1000, 10_000, 10_000, 10_000]\n",
    "densities= [0.2, 0.2, 0.2, 0.1, 0.2, 0.3]"
   ]
  },
  {
   "cell_type": "code",
   "execution_count": 7,
   "metadata": {},
   "outputs": [],
   "source": [
    "def single_tweak(solution, num_elements):\n",
    "    new_solution = solution.copy()\n",
    "    flip_index = np.random.randint(num_elements)\n",
    "\n",
    "    new_solution[flip_index] = not new_solution[flip_index] \n",
    "    pass\n",
    "def multiple_tweak(solution, num_sets):\n",
    "    new_solution = solution.copy()\n",
    "    index = None\n",
    "    while index is None or np.random.random() < 0.4:\n",
    "        index = np.random.randint(0, num_sets)\n",
    "        new_solution[index] = not new_solution[index]\n",
    "    return new_solution\n",
    "def simulated_annealing(set_data, cost_values, num_elements, density, rng, start_temp=900.0, decay_rate=0.995, end_temp=1e-6, max_steps=1000,mode=\"single\"):\n",
    "    if num_elements < 1000:\n",
    "        current_state = rng.random(num_elements) < 1\n",
    "    else:\n",
    "        current_state = rng.random(num_elements) < 0.5\n",
    "    # Evaluate the initial solution\n",
    "    current_score = fitness(current_state)\n",
    "    optimal_state = current_state\n",
    "    optimal_score = current_score\n",
    "    optimal_step = 0\n",
    "    # Set initial temperature and track history\n",
    "    temp = start_temp\n",
    "    fitness_history = [current_score[1]]\n",
    "    validity_history = [current_score[0]]\n",
    "    # Begin simulated annealing loop\n",
    "    for step in tqdm(range(max_steps), desc=\"Simulated Annealing\"):\n",
    "        # Generate a candidate solution by tweaking the current one\n",
    "        if mode == \"single\":\n",
    "            candidate_state = single_tweak(current_state,num_elements)\n",
    "\n",
    "        elif mode == \"multiple\":\n",
    "            candidate_state = multiple_tweak(current_state, num_elements)\n",
    "\n",
    "\n",
    "        candidate_score = fitness(candidate_state)\n",
    "\n",
    "        # Check if the new solution is valid before proceeding\n",
    "        if not valid(candidate_state):\n",
    "            validity_history.append(False)\n",
    "        else:\n",
    "            validity_history.append(True)\n",
    "        \n",
    "        # Calculate the acceptance probability according to the Metropolis criterion\n",
    "        score_diff = current_score[1] - candidate_score[1]\n",
    "        acceptance_prob = np.exp(-score_diff / temp)\n",
    "\n",
    "        # Move to the candidate solution if it is better or with a given probability\n",
    "        if (candidate_score > current_score or rng.random() < acceptance_prob):# and not (valid(current_state)==False and valid(candidate_state)==False):\n",
    "        \n",
    "            current_state = candidate_state\n",
    "            current_score = candidate_score\n",
    "\n",
    "            # Update the best solution if this one is better\n",
    "            if current_score > optimal_score:\n",
    "                optimal_state = current_state\n",
    "                optimal_score = current_score\n",
    "                optimal_step = step\n",
    "        # Gradually decrease the temperature\n",
    "        temp = max(temp * decay_rate, end_temp)\n",
    "\n",
    "        # Track the progress of the optimization\n",
    "        fitness_history.append(current_score[1])\n",
    "        # Stop if the temperature has cooled down to the minimum\n",
    "        if temp <= end_temp:\n",
    "            break\n",
    "\n",
    "        ic(step, optimal_score, temp)\n",
    "    print(fitness_history)\n",
    "    return optimal_step,optimal_state, optimal_score, fitness_history,validity_history"
   ]
  },
  {
   "cell_type": "code",
   "execution_count": 8,
   "metadata": {},
   "outputs": [],
   "source": [
    "#given list of solutions and list of validities, get list of invalid solution and list of indexes\n",
    "def get_invalid_solutions(solutions, validities):\n",
    "    invalid_solutions = []\n",
    "    invalid_indexes = []\n",
    "    for i in range(len(solutions)):\n",
    "        if not validities[i]:\n",
    "            invalid_solutions.append(solutions[i])\n",
    "            invalid_indexes.append(i)\n",
    "    return invalid_solutions, invalid_indexes\n"
   ]
  },
  {
   "cell_type": "markdown",
   "metadata": {},
   "source": []
  },
  {
   "cell_type": "code",
   "execution_count": null,
   "metadata": {},
   "outputs": [],
   "source": [
    "for universe, num_set, density in zip(universes, num_sets, densities):\n",
    "    print(f\"Universe Size: {universe}, Num Sets: {num_set}, Density: {density}\")\n",
    "    \n",
    "    rng = np.random.Generator(np.random.PCG64([universe, num_set, int(10_000 * density)]))\n",
    "    \n",
    "    SETS = rng.random((num_set, universe)) < density\n",
    "\n",
    "    \n",
    "    for s in range(universe):\n",
    "        if not np.any(SETS[:, s]):\n",
    "            SETS[np.random.randint(num_set), s] = True\n",
    "\n",
    "    #for each set a cost proportional to the number of element covered is associated to it\n",
    "    COSTS = np.power(SETS.sum(axis=1), 1.1)\n",
    "    \n",
    "    best_step,sol_val, sol_cost, hist,val_hist = simulated_annealing(SETS, COSTS, num_set, density, rng, mode=\"multiple\")\n",
    "    \n",
    "    print(f\"Best cost for: {universe}: {sol_cost}\")\n",
    "    #print(f\"Best validity solution: {sol_val}\")\n",
    "\n",
    "    plt.figure(figsize=(14, 8))\n",
    "    #plot the fitness history\n",
    "    plt.plot(range(len(hist)), hist, color=\"blue\", label=\"Fitness\")\n",
    "    #plot invalid solutions\n",
    "    invalid_solutions, invalid_indexes = get_invalid_solutions(hist, val_hist)\n",
    "    plt.scatter(invalid_indexes, invalid_solutions, color=\"red\", marker=\"x\", label=\"invalid solutions\")\n",
    "    #plot best solution\n",
    "    print(f\"Best step: {best_step}\")\n",
    "    print(f\"Best solution: {sol_cost}\")\n",
    "    plt.scatter(best_step, sol_cost[1], color=\"green\", marker=\"o\", label=\"Best solution (valid)\")\n",
    "    plt.title(f\" Universe size: {universe}\")\n",
    "    plt.xlabel(\"Steps\")\n",
    "    plt.ylabel(\"Negative cost (fitness)\")\n",
    "    plt.legend()\n",
    "    plt.grid(True)\n",
    "    plt.show()\n",
    "    "
   ]
  },
  {
   "cell_type": "code",
   "execution_count": null,
   "metadata": {},
   "outputs": [],
   "source": [
    "random()"
   ]
  },
  {
   "cell_type": "code",
   "execution_count": null,
   "metadata": {},
   "outputs": [],
   "source": []
  }
 ],
 "metadata": {
  "kernelspec": {
   "display_name": "base",
   "language": "python",
   "name": "python3"
  },
  "language_info": {
   "codemirror_mode": {
    "name": "ipython",
    "version": 3
   },
   "file_extension": ".py",
   "mimetype": "text/x-python",
   "name": "python",
   "nbconvert_exporter": "python",
   "pygments_lexer": "ipython3",
   "version": "3.9.2"
  }
 },
 "nbformat": 4,
 "nbformat_minor": 2
}
